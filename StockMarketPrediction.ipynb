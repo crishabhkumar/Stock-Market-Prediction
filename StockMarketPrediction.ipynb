{
  "nbformat": 4,
  "nbformat_minor": 0,
  "metadata": {
    "colab": {
      "name": "StockMarketPrediction.ipynb",
      "provenance": [],
      "authorship_tag": "ABX9TyMzoUmwZLIbgfUGYAz0udac",
      "include_colab_link": true
    },
    "kernelspec": {
      "name": "python3",
      "display_name": "Python 3"
    },
    "language_info": {
      "name": "python"
    }
  },
  "cells": [
    {
      "cell_type": "markdown",
      "metadata": {
        "id": "view-in-github",
        "colab_type": "text"
      },
      "source": [
        "<a href=\"https://colab.research.google.com/github/crishabhkumar/Stock-Market-Prediction/blob/main/StockMarketPrediction.ipynb\" target=\"_parent\"><img src=\"https://colab.research.google.com/assets/colab-badge.svg\" alt=\"Open In Colab\"/></a>"
      ]
    },
    {
      "cell_type": "code",
      "metadata": {
        "id": "KL66_yI7W9H1"
      },
      "source": [
        "#Data collection\n",
        "import pandas_datareader as pdr"
      ],
      "execution_count": 103,
      "outputs": []
    },
    {
      "cell_type": "code",
      "metadata": {
        "id": "s40eMpYoXbkS"
      },
      "source": [
        "df = pdr.get_data_tiingo('MSFT',api_key = '9c785c221f5138685dcc23817521be0f288100bc')"
      ],
      "execution_count": 104,
      "outputs": []
    },
    {
      "cell_type": "code",
      "metadata": {
        "id": "IowtAT2LYB3a"
      },
      "source": [
        "import pandas as pd"
      ],
      "execution_count": 105,
      "outputs": []
    },
    {
      "cell_type": "code",
      "metadata": {
        "colab": {
          "base_uri": "https://localhost:8080/",
          "height": 237
        },
        "id": "Uu7h2041YJcg",
        "outputId": "dec794aa-50d5-4717-d925-ff9b744f3b18"
      },
      "source": [
        "df.head()"
      ],
      "execution_count": 106,
      "outputs": [
        {
          "output_type": "execute_result",
          "data": {
            "text/html": [
              "<div>\n",
              "<style scoped>\n",
              "    .dataframe tbody tr th:only-of-type {\n",
              "        vertical-align: middle;\n",
              "    }\n",
              "\n",
              "    .dataframe tbody tr th {\n",
              "        vertical-align: top;\n",
              "    }\n",
              "\n",
              "    .dataframe thead th {\n",
              "        text-align: right;\n",
              "    }\n",
              "</style>\n",
              "<table border=\"1\" class=\"dataframe\">\n",
              "  <thead>\n",
              "    <tr style=\"text-align: right;\">\n",
              "      <th></th>\n",
              "      <th></th>\n",
              "      <th>close</th>\n",
              "      <th>high</th>\n",
              "      <th>low</th>\n",
              "      <th>open</th>\n",
              "      <th>volume</th>\n",
              "      <th>adjClose</th>\n",
              "      <th>adjHigh</th>\n",
              "      <th>adjLow</th>\n",
              "      <th>adjOpen</th>\n",
              "      <th>adjVolume</th>\n",
              "      <th>divCash</th>\n",
              "      <th>splitFactor</th>\n",
              "    </tr>\n",
              "    <tr>\n",
              "      <th>symbol</th>\n",
              "      <th>date</th>\n",
              "      <th></th>\n",
              "      <th></th>\n",
              "      <th></th>\n",
              "      <th></th>\n",
              "      <th></th>\n",
              "      <th></th>\n",
              "      <th></th>\n",
              "      <th></th>\n",
              "      <th></th>\n",
              "      <th></th>\n",
              "      <th></th>\n",
              "      <th></th>\n",
              "    </tr>\n",
              "  </thead>\n",
              "  <tbody>\n",
              "    <tr>\n",
              "      <th rowspan=\"5\" valign=\"top\">MSFT</th>\n",
              "      <th>2016-11-28 00:00:00+00:00</th>\n",
              "      <td>60.61</td>\n",
              "      <td>61.02</td>\n",
              "      <td>60.210</td>\n",
              "      <td>60.34</td>\n",
              "      <td>20732619</td>\n",
              "      <td>56.353161</td>\n",
              "      <td>56.734365</td>\n",
              "      <td>55.981254</td>\n",
              "      <td>56.102124</td>\n",
              "      <td>20732619</td>\n",
              "      <td>0.0</td>\n",
              "      <td>1.0</td>\n",
              "    </tr>\n",
              "    <tr>\n",
              "      <th>2016-11-29 00:00:00+00:00</th>\n",
              "      <td>61.09</td>\n",
              "      <td>61.41</td>\n",
              "      <td>60.520</td>\n",
              "      <td>60.65</td>\n",
              "      <td>22366721</td>\n",
              "      <td>56.799449</td>\n",
              "      <td>57.096974</td>\n",
              "      <td>56.269482</td>\n",
              "      <td>56.390351</td>\n",
              "      <td>22366721</td>\n",
              "      <td>0.0</td>\n",
              "      <td>1.0</td>\n",
              "    </tr>\n",
              "    <tr>\n",
              "      <th>2016-11-30 00:00:00+00:00</th>\n",
              "      <td>60.26</td>\n",
              "      <td>61.18</td>\n",
              "      <td>60.215</td>\n",
              "      <td>60.86</td>\n",
              "      <td>34655435</td>\n",
              "      <td>56.027742</td>\n",
              "      <td>56.883128</td>\n",
              "      <td>55.985903</td>\n",
              "      <td>56.585602</td>\n",
              "      <td>34655435</td>\n",
              "      <td>0.0</td>\n",
              "      <td>1.0</td>\n",
              "    </tr>\n",
              "    <tr>\n",
              "      <th>2016-12-01 00:00:00+00:00</th>\n",
              "      <td>59.20</td>\n",
              "      <td>60.15</td>\n",
              "      <td>58.935</td>\n",
              "      <td>60.11</td>\n",
              "      <td>34542121</td>\n",
              "      <td>55.042189</td>\n",
              "      <td>55.925468</td>\n",
              "      <td>54.795801</td>\n",
              "      <td>55.888277</td>\n",
              "      <td>34542121</td>\n",
              "      <td>0.0</td>\n",
              "      <td>1.0</td>\n",
              "    </tr>\n",
              "    <tr>\n",
              "      <th>2016-12-02 00:00:00+00:00</th>\n",
              "      <td>59.25</td>\n",
              "      <td>59.47</td>\n",
              "      <td>58.800</td>\n",
              "      <td>59.08</td>\n",
              "      <td>25515665</td>\n",
              "      <td>55.088678</td>\n",
              "      <td>55.293227</td>\n",
              "      <td>54.670283</td>\n",
              "      <td>54.930617</td>\n",
              "      <td>25515665</td>\n",
              "      <td>0.0</td>\n",
              "      <td>1.0</td>\n",
              "    </tr>\n",
              "  </tbody>\n",
              "</table>\n",
              "</div>"
            ],
            "text/plain": [
              "                                  close   high  ...  divCash  splitFactor\n",
              "symbol date                                     ...                      \n",
              "MSFT   2016-11-28 00:00:00+00:00  60.61  61.02  ...      0.0          1.0\n",
              "       2016-11-29 00:00:00+00:00  61.09  61.41  ...      0.0          1.0\n",
              "       2016-11-30 00:00:00+00:00  60.26  61.18  ...      0.0          1.0\n",
              "       2016-12-01 00:00:00+00:00  59.20  60.15  ...      0.0          1.0\n",
              "       2016-12-02 00:00:00+00:00  59.25  59.47  ...      0.0          1.0\n",
              "\n",
              "[5 rows x 12 columns]"
            ]
          },
          "metadata": {},
          "execution_count": 106
        }
      ]
    },
    {
      "cell_type": "code",
      "metadata": {
        "colab": {
          "base_uri": "https://localhost:8080/",
          "height": 237
        },
        "id": "tAygu4LrYNyc",
        "outputId": "0a5dd6fe-cc49-4d7d-e6e6-3e7be3253325"
      },
      "source": [
        "df.tail()"
      ],
      "execution_count": 107,
      "outputs": [
        {
          "output_type": "execute_result",
          "data": {
            "text/html": [
              "<div>\n",
              "<style scoped>\n",
              "    .dataframe tbody tr th:only-of-type {\n",
              "        vertical-align: middle;\n",
              "    }\n",
              "\n",
              "    .dataframe tbody tr th {\n",
              "        vertical-align: top;\n",
              "    }\n",
              "\n",
              "    .dataframe thead th {\n",
              "        text-align: right;\n",
              "    }\n",
              "</style>\n",
              "<table border=\"1\" class=\"dataframe\">\n",
              "  <thead>\n",
              "    <tr style=\"text-align: right;\">\n",
              "      <th></th>\n",
              "      <th></th>\n",
              "      <th>close</th>\n",
              "      <th>high</th>\n",
              "      <th>low</th>\n",
              "      <th>open</th>\n",
              "      <th>volume</th>\n",
              "      <th>adjClose</th>\n",
              "      <th>adjHigh</th>\n",
              "      <th>adjLow</th>\n",
              "      <th>adjOpen</th>\n",
              "      <th>adjVolume</th>\n",
              "      <th>divCash</th>\n",
              "      <th>splitFactor</th>\n",
              "    </tr>\n",
              "    <tr>\n",
              "      <th>symbol</th>\n",
              "      <th>date</th>\n",
              "      <th></th>\n",
              "      <th></th>\n",
              "      <th></th>\n",
              "      <th></th>\n",
              "      <th></th>\n",
              "      <th></th>\n",
              "      <th></th>\n",
              "      <th></th>\n",
              "      <th></th>\n",
              "      <th></th>\n",
              "      <th></th>\n",
              "      <th></th>\n",
              "    </tr>\n",
              "  </thead>\n",
              "  <tbody>\n",
              "    <tr>\n",
              "      <th rowspan=\"5\" valign=\"top\">MSFT</th>\n",
              "      <th>2021-11-19 00:00:00+00:00</th>\n",
              "      <td>343.11</td>\n",
              "      <td>345.10</td>\n",
              "      <td>342.200</td>\n",
              "      <td>342.64</td>\n",
              "      <td>21963403</td>\n",
              "      <td>343.11</td>\n",
              "      <td>345.10</td>\n",
              "      <td>342.200</td>\n",
              "      <td>342.64</td>\n",
              "      <td>21963403</td>\n",
              "      <td>0.0</td>\n",
              "      <td>1.0</td>\n",
              "    </tr>\n",
              "    <tr>\n",
              "      <th>2021-11-22 00:00:00+00:00</th>\n",
              "      <td>339.83</td>\n",
              "      <td>349.67</td>\n",
              "      <td>339.550</td>\n",
              "      <td>344.62</td>\n",
              "      <td>31031113</td>\n",
              "      <td>339.83</td>\n",
              "      <td>349.67</td>\n",
              "      <td>339.550</td>\n",
              "      <td>344.62</td>\n",
              "      <td>31031113</td>\n",
              "      <td>0.0</td>\n",
              "      <td>1.0</td>\n",
              "    </tr>\n",
              "    <tr>\n",
              "      <th>2021-11-23 00:00:00+00:00</th>\n",
              "      <td>337.68</td>\n",
              "      <td>339.45</td>\n",
              "      <td>333.560</td>\n",
              "      <td>337.05</td>\n",
              "      <td>30427563</td>\n",
              "      <td>337.68</td>\n",
              "      <td>339.45</td>\n",
              "      <td>333.560</td>\n",
              "      <td>337.05</td>\n",
              "      <td>30427563</td>\n",
              "      <td>0.0</td>\n",
              "      <td>1.0</td>\n",
              "    </tr>\n",
              "    <tr>\n",
              "      <th>2021-11-24 00:00:00+00:00</th>\n",
              "      <td>337.91</td>\n",
              "      <td>338.16</td>\n",
              "      <td>333.911</td>\n",
              "      <td>336.28</td>\n",
              "      <td>21661307</td>\n",
              "      <td>337.91</td>\n",
              "      <td>338.16</td>\n",
              "      <td>333.911</td>\n",
              "      <td>336.28</td>\n",
              "      <td>21661307</td>\n",
              "      <td>0.0</td>\n",
              "      <td>1.0</td>\n",
              "    </tr>\n",
              "    <tr>\n",
              "      <th>2021-11-26 00:00:00+00:00</th>\n",
              "      <td>329.68</td>\n",
              "      <td>337.93</td>\n",
              "      <td>328.120</td>\n",
              "      <td>334.35</td>\n",
              "      <td>24217242</td>\n",
              "      <td>329.68</td>\n",
              "      <td>337.93</td>\n",
              "      <td>328.120</td>\n",
              "      <td>334.35</td>\n",
              "      <td>24217242</td>\n",
              "      <td>0.0</td>\n",
              "      <td>1.0</td>\n",
              "    </tr>\n",
              "  </tbody>\n",
              "</table>\n",
              "</div>"
            ],
            "text/plain": [
              "                                   close    high  ...  divCash  splitFactor\n",
              "symbol date                                       ...                      \n",
              "MSFT   2021-11-19 00:00:00+00:00  343.11  345.10  ...      0.0          1.0\n",
              "       2021-11-22 00:00:00+00:00  339.83  349.67  ...      0.0          1.0\n",
              "       2021-11-23 00:00:00+00:00  337.68  339.45  ...      0.0          1.0\n",
              "       2021-11-24 00:00:00+00:00  337.91  338.16  ...      0.0          1.0\n",
              "       2021-11-26 00:00:00+00:00  329.68  337.93  ...      0.0          1.0\n",
              "\n",
              "[5 rows x 12 columns]"
            ]
          },
          "metadata": {},
          "execution_count": 107
        }
      ]
    },
    {
      "cell_type": "code",
      "metadata": {
        "id": "A1tQs45Jk2Js"
      },
      "source": [
        "df2 = df"
      ],
      "execution_count": 108,
      "outputs": []
    },
    {
      "cell_type": "code",
      "metadata": {
        "id": "4Eh57fR0YBDQ"
      },
      "source": [
        "df1 = df2.reset_index()['close']"
      ],
      "execution_count": 109,
      "outputs": []
    },
    {
      "cell_type": "code",
      "metadata": {
        "colab": {
          "base_uri": "https://localhost:8080/"
        },
        "id": "yumsdA82X6S5",
        "outputId": "eeed1b52-bdbc-4472-9373-e9c18cb02177"
      },
      "source": [
        "df1"
      ],
      "execution_count": 110,
      "outputs": [
        {
          "output_type": "execute_result",
          "data": {
            "text/plain": [
              "0        60.61\n",
              "1        61.09\n",
              "2        60.26\n",
              "3        59.20\n",
              "4        59.25\n",
              "         ...  \n",
              "1254    343.11\n",
              "1255    339.83\n",
              "1256    337.68\n",
              "1257    337.91\n",
              "1258    329.68\n",
              "Name: close, Length: 1259, dtype: float64"
            ]
          },
          "metadata": {},
          "execution_count": 110
        }
      ]
    },
    {
      "cell_type": "code",
      "metadata": {
        "colab": {
          "base_uri": "https://localhost:8080/",
          "height": 283
        },
        "id": "aBZfxkzqYnIZ",
        "outputId": "343ed216-fe2a-40f4-e7b1-d7108ef0cbdc"
      },
      "source": [
        "import matplotlib.pyplot as plt\n",
        "plt.plot(df1)"
      ],
      "execution_count": 111,
      "outputs": [
        {
          "output_type": "execute_result",
          "data": {
            "text/plain": [
              "[<matplotlib.lines.Line2D at 0x7efd81fb7e50>]"
            ]
          },
          "metadata": {},
          "execution_count": 111
        },
        {
          "output_type": "display_data",
          "data": {
            "image/png": "[encoded data removed]",
            "text/plain": [
              "<Figure size 432x288 with 1 Axes>"
            ]
          },
          "metadata": {
            "needs_background": "light"
          }
        }
      ]
    },
    {
      "cell_type": "code",
      "metadata": {
        "id": "CFhfZk34Ytre"
      },
      "source": [
        "###LSTM are sensitive to the scale of the data. so we apply MINMAXSCALER"
      ],
      "execution_count": 112,
      "outputs": []
    },
    {
      "cell_type": "code",
      "metadata": {
        "colab": {
          "base_uri": "https://localhost:8080/"
        },
        "id": "HTvco97_Y1Gr",
        "outputId": "3af7e80b-a4ba-4293-a689-9a26f5ed7e27"
      },
      "source": [
        "import numpy as np\n",
        "\n",
        "from sklearn.preprocessing import MinMaxScaler\n",
        "scaler = MinMaxScaler(feature_range=(0,1))\n",
        "df1 = scaler.fit_transform(np.array(df1).reshape(-1,1))\n",
        "df1.shape\n",
        "df1"
      ],
      "execution_count": 130,
      "outputs": [
        {
          "output_type": "execute_result",
          "data": {
            "text/plain": [
              "array([[0.00496636],\n",
              "       [0.00665704],\n",
              "       [0.00373358],\n",
              "       ...,\n",
              "       [0.98087422],\n",
              "       [0.98168434],\n",
              "       [0.95269628]])"
            ]
          },
          "metadata": {},
          "execution_count": 130
        }
      ]
    },
    {
      "cell_type": "code",
      "metadata": {
        "id": "VHt1VYsaZQdb"
      },
      "source": [
        "###splitting dataset into train and test split\n",
        "training_size = int(len(df1)*0.65)\n",
        "test_size = len(df1)-training_size\n",
        "train_data,test_data = df1[0:training_size,:],df1[training_size:len(df1),:1]\n"
      ],
      "execution_count": 131,
      "outputs": []
    },
    {
      "cell_type": "code",
      "metadata": {
        "colab": {
          "base_uri": "https://localhost:8080/"
        },
        "id": "dywvPCSHab4R",
        "outputId": "d801208f-063d-42eb-a85b-49f6315654aa"
      },
      "source": [
        "training_size,test_size"
      ],
      "execution_count": 132,
      "outputs": [
        {
          "output_type": "execute_result",
          "data": {
            "text/plain": [
              "(818, 441)"
            ]
          },
          "metadata": {},
          "execution_count": 132
        }
      ]
    },
    {
      "cell_type": "code",
      "metadata": {
        "colab": {
          "base_uri": "https://localhost:8080/"
        },
        "id": "OmLNv1q5ah-g",
        "outputId": "562b768b-1df7-408c-99e9-0928233851fa"
      },
      "source": [
        "len(train_data),len(test_data)"
      ],
      "execution_count": 133,
      "outputs": [
        {
          "output_type": "execute_result",
          "data": {
            "text/plain": [
              "(818, 441)"
            ]
          },
          "metadata": {},
          "execution_count": 133
        }
      ]
    },
    {
      "cell_type": "code",
      "metadata": {
        "id": "GZY-tigNaqMp"
      },
      "source": [
        " import numpy\n",
        " #convert an array of values into a dataset matrix\n",
        " def create_dataset(dataset, time_step = 1):\n",
        "   dataX,dataY = [], []\n",
        "   for i in range(len(dataset) - time_step-1):\n",
        "      a = dataset[i:(i+time_step), 0]\n",
        "      dataX.append(a)\n",
        "      dataY.append(dataset[i + time_step, 0])\n",
        "   return numpy.array(dataX), numpy.array(dataY)\n"
      ],
      "execution_count": 134,
      "outputs": []
    },
    {
      "cell_type": "code",
      "metadata": {
        "id": "v2Uwe8wsd7oC"
      },
      "source": [
        "#reshape into X=t,t+1,t+2,t+3 and Y = t+4\n",
        "time_step = 100\n",
        "X_train, Y_train = create_dataset(train_data, time_step)\n",
        "X_test, Y_test = create_dataset(test_data, time_step)"
      ],
      "execution_count": 136,
      "outputs": []
    },
    {
      "cell_type": "code",
      "metadata": {
        "colab": {
          "base_uri": "https://localhost:8080/"
        },
        "id": "oeI4RkfLeWme",
        "outputId": "3f3272ef-f508-4759-bd08-7062eb8780f2"
      },
      "source": [
        "print(X_train.shape)\n",
        "print(Y_train.shape)\n",
        "print(X_test.shape)\n",
        "print(Y_test.shape)"
      ],
      "execution_count": 138,
      "outputs": [
        {
          "output_type": "stream",
          "name": "stdout",
          "text": [
            "(717, 100)\n",
            "(717,)\n",
            "(340, 100)\n",
            "(340,)\n"
          ]
        }
      ]
    },
    {
      "cell_type": "code",
      "metadata": {
        "id": "C5YaxVRnfN39"
      },
      "source": [
        "#reshape input to be [samples,time steps,features] which is basic requirements for LSTM\n",
        "X_train = X_train.reshape(X_train.shape[0],X_train.shape[1] , 1)\n",
        "X_test = X_test.reshape(X_test.shape[0], X_test.shape[1], 1)"
      ],
      "execution_count": 139,
      "outputs": []
    },
    {
      "cell_type": "code",
      "metadata": {
        "id": "pel60bN9fpjb"
      },
      "source": [
        "#creating the LSTM model\n",
        "#importing the required modules\n",
        "from tensorflow.keras.models import Sequential\n",
        "from tensorflow.keras.layers import Dense\n",
        "from tensorflow.keras.layers import LSTM"
      ],
      "execution_count": 140,
      "outputs": []
    },
    {
      "cell_type": "code",
      "metadata": {
        "id": "P2f14J75f8pi"
      },
      "source": [
        "model = Sequential()\n",
        "model.add(LSTM(50,return_sequences=True,input_shape=(100,1)))\n",
        "model.add(LSTM(50,return_sequences=True))\n",
        "model.add(LSTM(50))\n",
        "model.add(Dense(1))\n",
        "model.compile(loss='mean_squared_error',optimizer='adam')"
      ],
      "execution_count": 141,
      "outputs": []
    },
    {
      "cell_type": "code",
      "metadata": {
        "colab": {
          "base_uri": "https://localhost:8080/"
        },
        "id": "a1UBRF21ggtc",
        "outputId": "150c2dbe-ba92-4c35-f016-cabb1d869c4f"
      },
      "source": [
        "model.summary()"
      ],
      "execution_count": 142,
      "outputs": [
        {
          "output_type": "stream",
          "name": "stdout",
          "text": [
            "Model: \"sequential_5\"\n",
            "_________________________________________________________________\n",
            " Layer (type)                Output Shape              Param #   \n",
            "=================================================================\n",
            " lstm_14 (LSTM)              (None, 100, 50)           10400     \n",
            "                                                                 \n",
            " lstm_15 (LSTM)              (None, 100, 50)           20200     \n",
            "                                                                 \n",
            " lstm_16 (LSTM)              (None, 50)                20200     \n",
            "                                                                 \n",
            " dense_4 (Dense)             (None, 1)                 51        \n",
            "                                                                 \n",
            "=================================================================\n",
            "Total params: 50,851\n",
            "Trainable params: 50,851\n",
            "Non-trainable params: 0\n",
            "_________________________________________________________________\n"
          ]
        }
      ]
    },
    {
      "cell_type": "code",
      "metadata": {
        "colab": {
          "base_uri": "https://localhost:8080/"
        },
        "id": "Ti62ZYHagwNa",
        "outputId": "6e76a0a4-315d-4837-c148-b3fe3ecc0476"
      },
      "source": [
        "model.fit(X_train,Y_train,validation_data=(X_test,Y_test),epochs=100,batch_size=64,verbose=1)"
      ],
      "execution_count": 144,
      "outputs": [
        {
          "output_type": "stream",
          "name": "stdout",
          "text": [
            "Epoch 1/100\n",
            "12/12 [==============================] - 2s 192ms/step - loss: 1.7736e-04 - val_loss: 0.0014\n",
            "Epoch 2/100\n",
            "12/12 [==============================] - 2s 185ms/step - loss: 1.6576e-04 - val_loss: 0.0018\n",
            "Epoch 3/100\n",
            "12/12 [==============================] - 2s 189ms/step - loss: 1.7879e-04 - val_loss: 0.0014\n",
            "Epoch 4/100\n",
            "12/12 [==============================] - 2s 187ms/step - loss: 1.6348e-04 - val_loss: 0.0013\n",
            "Epoch 5/100\n",
            "12/12 [==============================] - 2s 189ms/step - loss: 1.7717e-04 - val_loss: 0.0014\n",
            "Epoch 6/100\n",
            "12/12 [==============================] - 2s 187ms/step - loss: 1.5577e-04 - val_loss: 0.0014\n",
            "Epoch 7/100\n",
            "12/12 [==============================] - 2s 190ms/step - loss: 1.4951e-04 - val_loss: 0.0015\n",
            "Epoch 8/100\n",
            "12/12 [==============================] - 2s 189ms/step - loss: 1.5163e-04 - val_loss: 0.0014\n",
            "Epoch 9/100\n",
            "12/12 [==============================] - 2s 191ms/step - loss: 1.5158e-04 - val_loss: 0.0013\n",
            "Epoch 10/100\n",
            "12/12 [==============================] - 2s 190ms/step - loss: 1.6031e-04 - val_loss: 0.0015\n",
            "Epoch 11/100\n",
            "12/12 [==============================] - 2s 191ms/step - loss: 2.0443e-04 - val_loss: 0.0024\n",
            "Epoch 12/100\n",
            "12/12 [==============================] - 2s 190ms/step - loss: 1.6287e-04 - val_loss: 0.0013\n",
            "Epoch 13/100\n",
            "12/12 [==============================] - 2s 186ms/step - loss: 1.5659e-04 - val_loss: 0.0013\n",
            "Epoch 14/100\n",
            "12/12 [==============================] - 2s 185ms/step - loss: 1.6279e-04 - val_loss: 0.0012\n",
            "Epoch 15/100\n",
            "12/12 [==============================] - 2s 188ms/step - loss: 1.8094e-04 - val_loss: 0.0011\n",
            "Epoch 16/100\n",
            "12/12 [==============================] - 2s 186ms/step - loss: 1.7021e-04 - val_loss: 0.0016\n",
            "Epoch 17/100\n",
            "12/12 [==============================] - 2s 186ms/step - loss: 1.5852e-04 - val_loss: 0.0010\n",
            "Epoch 18/100\n",
            "12/12 [==============================] - 2s 185ms/step - loss: 1.8184e-04 - val_loss: 0.0011\n",
            "Epoch 19/100\n",
            "12/12 [==============================] - 2s 189ms/step - loss: 1.4914e-04 - val_loss: 0.0013\n",
            "Epoch 20/100\n",
            "12/12 [==============================] - 2s 188ms/step - loss: 1.5143e-04 - val_loss: 0.0012\n",
            "Epoch 21/100\n",
            "12/12 [==============================] - 2s 188ms/step - loss: 1.4976e-04 - val_loss: 0.0010\n",
            "Epoch 22/100\n",
            "12/12 [==============================] - 2s 185ms/step - loss: 1.5323e-04 - val_loss: 0.0019\n",
            "Epoch 23/100\n",
            "12/12 [==============================] - 2s 187ms/step - loss: 1.6436e-04 - val_loss: 0.0015\n",
            "Epoch 24/100\n",
            "12/12 [==============================] - 2s 185ms/step - loss: 1.5020e-04 - val_loss: 9.8465e-04\n",
            "Epoch 25/100\n",
            "12/12 [==============================] - 2s 187ms/step - loss: 1.5992e-04 - val_loss: 0.0015\n",
            "Epoch 26/100\n",
            "12/12 [==============================] - 2s 189ms/step - loss: 1.5668e-04 - val_loss: 0.0014\n",
            "Epoch 27/100\n",
            "12/12 [==============================] - 2s 190ms/step - loss: 1.4799e-04 - val_loss: 0.0013\n",
            "Epoch 28/100\n",
            "12/12 [==============================] - 2s 190ms/step - loss: 1.6705e-04 - val_loss: 0.0013\n",
            "Epoch 29/100\n",
            "12/12 [==============================] - 2s 190ms/step - loss: 1.7336e-04 - val_loss: 0.0012\n",
            "Epoch 30/100\n",
            "12/12 [==============================] - 2s 190ms/step - loss: 1.6506e-04 - val_loss: 0.0010\n",
            "Epoch 31/100\n",
            "12/12 [==============================] - 2s 187ms/step - loss: 1.6091e-04 - val_loss: 0.0012\n",
            "Epoch 32/100\n",
            "12/12 [==============================] - 2s 187ms/step - loss: 1.4893e-04 - val_loss: 0.0013\n",
            "Epoch 33/100\n",
            "12/12 [==============================] - 2s 188ms/step - loss: 1.6225e-04 - val_loss: 0.0013\n",
            "Epoch 34/100\n",
            "12/12 [==============================] - 2s 189ms/step - loss: 1.4293e-04 - val_loss: 0.0012\n",
            "Epoch 35/100\n",
            "12/12 [==============================] - 2s 186ms/step - loss: 1.5170e-04 - val_loss: 0.0011\n",
            "Epoch 36/100\n",
            "12/12 [==============================] - 2s 187ms/step - loss: 1.3921e-04 - val_loss: 0.0013\n",
            "Epoch 37/100\n",
            "12/12 [==============================] - 2s 186ms/step - loss: 1.4146e-04 - val_loss: 9.9629e-04\n",
            "Epoch 38/100\n",
            "12/12 [==============================] - 2s 188ms/step - loss: 1.5897e-04 - val_loss: 9.6351e-04\n",
            "Epoch 39/100\n",
            "12/12 [==============================] - 2s 191ms/step - loss: 1.4663e-04 - val_loss: 0.0014\n",
            "Epoch 40/100\n",
            "12/12 [==============================] - 2s 187ms/step - loss: 1.8418e-04 - val_loss: 0.0011\n",
            "Epoch 41/100\n",
            "12/12 [==============================] - 2s 187ms/step - loss: 1.5811e-04 - val_loss: 0.0011\n",
            "Epoch 42/100\n",
            "12/12 [==============================] - 2s 192ms/step - loss: 1.4005e-04 - val_loss: 0.0010\n",
            "Epoch 43/100\n",
            "12/12 [==============================] - 2s 188ms/step - loss: 1.4671e-04 - val_loss: 0.0018\n",
            "Epoch 44/100\n",
            "12/12 [==============================] - 2s 186ms/step - loss: 1.9302e-04 - val_loss: 8.8395e-04\n",
            "Epoch 45/100\n",
            "12/12 [==============================] - 2s 188ms/step - loss: 1.5575e-04 - val_loss: 0.0013\n",
            "Epoch 46/100\n",
            "12/12 [==============================] - 2s 187ms/step - loss: 1.3995e-04 - val_loss: 8.8083e-04\n",
            "Epoch 47/100\n",
            "12/12 [==============================] - 2s 189ms/step - loss: 1.6527e-04 - val_loss: 0.0015\n",
            "Epoch 48/100\n",
            "12/12 [==============================] - 2s 186ms/step - loss: 2.1863e-04 - val_loss: 0.0012\n",
            "Epoch 49/100\n",
            "12/12 [==============================] - 2s 187ms/step - loss: 2.0172e-04 - val_loss: 9.7618e-04\n",
            "Epoch 50/100\n",
            "12/12 [==============================] - 2s 190ms/step - loss: 1.9888e-04 - val_loss: 9.3484e-04\n",
            "Epoch 51/100\n",
            "12/12 [==============================] - 2s 185ms/step - loss: 1.5709e-04 - val_loss: 0.0011\n",
            "Epoch 52/100\n",
            "12/12 [==============================] - 2s 188ms/step - loss: 1.4445e-04 - val_loss: 9.0589e-04\n",
            "Epoch 53/100\n",
            "12/12 [==============================] - 2s 191ms/step - loss: 1.3175e-04 - val_loss: 9.0737e-04\n",
            "Epoch 54/100\n",
            "12/12 [==============================] - 2s 189ms/step - loss: 1.3369e-04 - val_loss: 8.7236e-04\n",
            "Epoch 55/100\n",
            "12/12 [==============================] - 2s 190ms/step - loss: 1.3786e-04 - val_loss: 9.6891e-04\n",
            "Epoch 56/100\n",
            "12/12 [==============================] - 2s 193ms/step - loss: 1.3730e-04 - val_loss: 8.5370e-04\n",
            "Epoch 57/100\n",
            "12/12 [==============================] - 2s 190ms/step - loss: 1.3325e-04 - val_loss: 9.9607e-04\n",
            "Epoch 58/100\n",
            "12/12 [==============================] - 2s 187ms/step - loss: 1.3603e-04 - val_loss: 8.4029e-04\n",
            "Epoch 59/100\n",
            "12/12 [==============================] - 2s 187ms/step - loss: 1.3304e-04 - val_loss: 8.1580e-04\n",
            "Epoch 60/100\n",
            "12/12 [==============================] - 2s 188ms/step - loss: 1.3978e-04 - val_loss: 8.6105e-04\n",
            "Epoch 61/100\n",
            "12/12 [==============================] - 2s 188ms/step - loss: 1.4053e-04 - val_loss: 9.1123e-04\n",
            "Epoch 62/100\n",
            "12/12 [==============================] - 2s 187ms/step - loss: 1.3375e-04 - val_loss: 8.2054e-04\n",
            "Epoch 63/100\n",
            "12/12 [==============================] - 2s 188ms/step - loss: 1.2833e-04 - val_loss: 0.0011\n",
            "Epoch 64/100\n",
            "12/12 [==============================] - 2s 192ms/step - loss: 1.7864e-04 - val_loss: 0.0011\n",
            "Epoch 65/100\n",
            "12/12 [==============================] - 2s 196ms/step - loss: 1.4161e-04 - val_loss: 8.1563e-04\n",
            "Epoch 66/100\n",
            "12/12 [==============================] - 2s 192ms/step - loss: 1.3747e-04 - val_loss: 8.1889e-04\n",
            "Epoch 67/100\n",
            "12/12 [==============================] - 2s 193ms/step - loss: 1.3748e-04 - val_loss: 9.9586e-04\n",
            "Epoch 68/100\n",
            "12/12 [==============================] - 2s 192ms/step - loss: 1.3168e-04 - val_loss: 0.0010\n",
            "Epoch 69/100\n",
            "12/12 [==============================] - 2s 194ms/step - loss: 1.3752e-04 - val_loss: 0.0011\n",
            "Epoch 70/100\n",
            "12/12 [==============================] - 2s 194ms/step - loss: 1.4025e-04 - val_loss: 8.9856e-04\n",
            "Epoch 71/100\n",
            "12/12 [==============================] - 2s 191ms/step - loss: 1.3310e-04 - val_loss: 7.5315e-04\n",
            "Epoch 72/100\n",
            "12/12 [==============================] - 2s 192ms/step - loss: 1.3284e-04 - val_loss: 7.1985e-04\n",
            "Epoch 73/100\n",
            "12/12 [==============================] - 2s 190ms/step - loss: 1.2832e-04 - val_loss: 7.5212e-04\n",
            "Epoch 74/100\n",
            "12/12 [==============================] - 2s 187ms/step - loss: 1.2520e-04 - val_loss: 0.0010\n",
            "Epoch 75/100\n",
            "12/12 [==============================] - 2s 188ms/step - loss: 1.4402e-04 - val_loss: 9.5237e-04\n",
            "Epoch 76/100\n",
            "12/12 [==============================] - 2s 187ms/step - loss: 1.4930e-04 - val_loss: 0.0014\n",
            "Epoch 77/100\n",
            "12/12 [==============================] - 2s 186ms/step - loss: 1.5258e-04 - val_loss: 7.6145e-04\n",
            "Epoch 78/100\n",
            "12/12 [==============================] - 2s 187ms/step - loss: 1.2536e-04 - val_loss: 7.3286e-04\n",
            "Epoch 79/100\n",
            "12/12 [==============================] - 2s 186ms/step - loss: 1.2302e-04 - val_loss: 7.2536e-04\n",
            "Epoch 80/100\n",
            "12/12 [==============================] - 2s 187ms/step - loss: 1.2633e-04 - val_loss: 0.0010\n",
            "Epoch 81/100\n",
            "12/12 [==============================] - 2s 184ms/step - loss: 1.3195e-04 - val_loss: 7.1338e-04\n",
            "Epoch 82/100\n",
            "12/12 [==============================] - 2s 189ms/step - loss: 1.3805e-04 - val_loss: 7.6223e-04\n",
            "Epoch 83/100\n",
            "12/12 [==============================] - 2s 190ms/step - loss: 1.3315e-04 - val_loss: 9.5906e-04\n",
            "Epoch 84/100\n",
            "12/12 [==============================] - 2s 193ms/step - loss: 1.2445e-04 - val_loss: 7.2933e-04\n",
            "Epoch 85/100\n",
            "12/12 [==============================] - 2s 191ms/step - loss: 1.2580e-04 - val_loss: 6.9834e-04\n",
            "Epoch 86/100\n",
            "12/12 [==============================] - 2s 192ms/step - loss: 1.4485e-04 - val_loss: 0.0010\n",
            "Epoch 87/100\n",
            "12/12 [==============================] - 2s 192ms/step - loss: 1.3888e-04 - val_loss: 7.2636e-04\n",
            "Epoch 88/100\n",
            "12/12 [==============================] - 2s 190ms/step - loss: 1.2859e-04 - val_loss: 9.7346e-04\n",
            "Epoch 89/100\n",
            "12/12 [==============================] - 2s 187ms/step - loss: 1.2919e-04 - val_loss: 7.1094e-04\n",
            "Epoch 90/100\n",
            "12/12 [==============================] - 2s 187ms/step - loss: 1.2058e-04 - val_loss: 9.8147e-04\n",
            "Epoch 91/100\n",
            "12/12 [==============================] - 2s 188ms/step - loss: 1.1460e-04 - val_loss: 6.3672e-04\n",
            "Epoch 92/100\n",
            "12/12 [==============================] - 2s 192ms/step - loss: 1.1977e-04 - val_loss: 8.8408e-04\n",
            "Epoch 93/100\n",
            "12/12 [==============================] - 2s 198ms/step - loss: 1.4454e-04 - val_loss: 0.0015\n",
            "Epoch 94/100\n",
            "12/12 [==============================] - 2s 186ms/step - loss: 1.7926e-04 - val_loss: 9.8886e-04\n",
            "Epoch 95/100\n",
            "12/12 [==============================] - 2s 189ms/step - loss: 1.6536e-04 - val_loss: 0.0012\n",
            "Epoch 96/100\n",
            "12/12 [==============================] - 2s 183ms/step - loss: 1.4632e-04 - val_loss: 6.0315e-04\n",
            "Epoch 97/100\n",
            "12/12 [==============================] - 2s 190ms/step - loss: 1.2185e-04 - val_loss: 5.6762e-04\n",
            "Epoch 98/100\n",
            "12/12 [==============================] - 2s 189ms/step - loss: 1.1052e-04 - val_loss: 5.4925e-04\n",
            "Epoch 99/100\n",
            "12/12 [==============================] - 2s 192ms/step - loss: 1.1633e-04 - val_loss: 6.6650e-04\n",
            "Epoch 100/100\n",
            "12/12 [==============================] - 2s 190ms/step - loss: 1.1672e-04 - val_loss: 6.8975e-04\n"
          ]
        },
        {
          "output_type": "execute_result",
          "data": {
            "text/plain": [
              "<keras.callbacks.History at 0x7efd792689d0>"
            ]
          },
          "metadata": {},
          "execution_count": 144
        }
      ]
    },
    {
      "cell_type": "code",
      "metadata": {
        "id": "NpciNKXNkSwz"
      },
      "source": [
        "import tensorflow as tf"
      ],
      "execution_count": 145,
      "outputs": []
    },
    {
      "cell_type": "code",
      "metadata": {
        "id": "8lvsIY-PhUGE"
      },
      "source": [
        "###prediction part and check performance metrices\n",
        "train_predict = model.predict(X_train)\n",
        "test_predict = model.predict(X_test)"
      ],
      "execution_count": 146,
      "outputs": []
    },
    {
      "cell_type": "code",
      "metadata": {
        "id": "YM_c73T_hpfY"
      },
      "source": [
        "#transformback to original form\n",
        "train_predict = scaler.inverse_transform(train_predict)\n",
        "test_predict = scaler.inverse_transform(test_predict)\n"
      ],
      "execution_count": 147,
      "outputs": []
    },
    {
      "cell_type": "code",
      "metadata": {
        "colab": {
          "base_uri": "https://localhost:8080/"
        },
        "id": "zzl0VJG4h2Hw",
        "outputId": "83bffdde-750d-41e4-e914-5bb349dd5f43"
      },
      "source": [
        "###Calculate RMSE performance metrices\n",
        "import math\n",
        "from sklearn.metrics import mean_squared_error\n",
        "#train data RMSE\n",
        "print(math.sqrt(mean_squared_error(Y_train,train_predict)))\n",
        "#test data RMSE\n",
        "print(math.sqrt(mean_squared_error(Y_test,test_predict)))"
      ],
      "execution_count": 148,
      "outputs": [
        {
          "output_type": "stream",
          "name": "stdout",
          "text": [
            "0.011500459108844546\n",
            "0.02626302154263204\n"
          ]
        }
      ]
    },
    {
      "cell_type": "code",
      "metadata": {
        "colab": {
          "base_uri": "https://localhost:8080/",
          "height": 265
        },
        "id": "VhTVdxWCisE4",
        "outputId": "6ee6c8cd-8979-4ab1-b226-3b8ac32eeb9b"
      },
      "source": [
        "#plotting \n",
        "#shift of train prediction for plotting\n",
        "look_back = 100\n",
        "trainPredictPlot = numpy.empty_like(df1)\n",
        "trainPredictPlot[:, :] = np.nan\n",
        "trainPredictPlot[look_back:len(train_predict)+look_back, :] = train_predict\n",
        "#shift test predictin for plotting\n",
        "testPredictPlot = numpy.empty_like(df1)\n",
        "testPredictPlot[:, :] = numpy.nan\n",
        "testPredictPlot[len(train_predict)+(look_back*2)+1:len(df1)-1, :] = test_predict\n",
        "#plot baseline and predictions\n",
        "plt.plot(scaler.inverse_transform(df1))\n",
        "plt.plot(trainPredictPlot)\n",
        "plt.plot(testPredictPlot)\n",
        "plt.show()\n",
        "\n",
        "\n",
        "#orange one is train prediction\n",
        "#green one is test prediction\n",
        "#blue one is real graph\n"
      ],
      "execution_count": 150,
      "outputs": [
        {
          "output_type": "display_data",
          "data": {
            "image/png": "[encoded data removed]",
            "text/plain": [
              "<Figure size 432x288 with 1 Axes>"
            ]
          },
          "metadata": {
            "needs_background": "light"
          }
        }
      ]
    },
    {
      "cell_type": "code",
      "metadata": {
        "colab": {
          "base_uri": "https://localhost:8080/"
        },
        "id": "QfSh8125iYL4",
        "outputId": "0da368d8-d3b6-4142-fe9c-861340b68297"
      },
      "source": [
        "len(test_data)"
      ],
      "execution_count": 152,
      "outputs": [
        {
          "output_type": "execute_result",
          "data": {
            "text/plain": [
              "441"
            ]
          },
          "metadata": {},
          "execution_count": 152
        }
      ]
    },
    {
      "cell_type": "code",
      "metadata": {
        "colab": {
          "base_uri": "https://localhost:8080/"
        },
        "id": "ZAoVERu9p0kV",
        "outputId": "4bd8ed96-fa3c-4b2f-960d-81b7128aacd4"
      },
      "source": [
        "#taking past 100 days data to predict the future upcoming prices \n",
        "X_input = test_data[341:].reshape(1,-1)\n",
        "X_input.shape"
      ],
      "execution_count": 185,
      "outputs": [
        {
          "output_type": "execute_result",
          "data": {
            "text/plain": [
              "(1, 100)"
            ]
          },
          "metadata": {},
          "execution_count": 185
        }
      ]
    },
    {
      "cell_type": "code",
      "metadata": {
        "colab": {
          "base_uri": "https://localhost:8080/"
        },
        "id": "UkaCnNQxqPl6",
        "outputId": "92640120-cc7c-4c23-cc4c-16e01b6914c6"
      },
      "source": [
        "temp_input = list(X_input)\n",
        "temp_input = temp_input[0].tolist()\n",
        "len(temp_input)"
      ],
      "execution_count": 186,
      "outputs": [
        {
          "output_type": "execute_result",
          "data": {
            "text/plain": [
              "100"
            ]
          },
          "metadata": {},
          "execution_count": 186
        }
      ]
    },
    {
      "cell_type": "code",
      "metadata": {
        "colab": {
          "base_uri": "https://localhost:8080/"
        },
        "id": "VXSppPJ1qin-",
        "outputId": "0f97dee1-d6ba-43fa-ab69-0cc601cd504b"
      },
      "source": [
        "temp_input"
      ],
      "execution_count": 187,
      "outputs": [
        {
          "output_type": "execute_result",
          "data": {
            "text/plain": [
              "[0.7686238596738405,\n",
              " 0.7704554260152867,\n",
              " 0.7682716353774085,\n",
              " 0.7811630446268186,\n",
              " 0.7865520763622276,\n",
              " 0.7813391567750344,\n",
              " 0.780352928745025,\n",
              " 0.7671797400584693,\n",
              " 0.7753161213060479,\n",
              " 0.7826423866718327,\n",
              " 0.7993378183227081,\n",
              " 0.8117713359867565,\n",
              " 0.8095875453488784,\n",
              " 0.8007467155084359,\n",
              " 0.7996195977598538,\n",
              " 0.8006058257898631,\n",
              " 0.7950054594765948,\n",
              " 0.794688457609806,\n",
              " 0.8027896164277414,\n",
              " 0.8006410482195062,\n",
              " 0.8112429995421085,\n",
              " 0.8110316649642494,\n",
              " 0.8070515304145681,\n",
              " 0.8003944912120039,\n",
              " 0.8021908351238071,\n",
              " 0.8122644500017614,\n",
              " 0.8229720686132932,\n",
              " 0.8291359938008526,\n",
              " 0.8237821844950867,\n",
              " 0.8155049135289355,\n",
              " 0.8367792610334263,\n",
              " 0.8635130851326126,\n",
              " 0.8645345355922652,\n",
              " 0.8573843823746964,\n",
              " 0.8552358141664612,\n",
              " 0.8449508647106477,\n",
              " 0.8471698777781694,\n",
              " 0.8608009580500863,\n",
              " 0.8547779225810997,\n",
              " 0.8546018104328837,\n",
              " 0.8522066852171463,\n",
              " 0.8521714627875031,\n",
              " 0.8487901095417564,\n",
              " 0.8488957768306858,\n",
              " 0.8384699376562997,\n",
              " 0.8330456834912473,\n",
              " 0.8375541544855766,\n",
              " 0.8474164347856717,\n",
              " 0.8651333168961995,\n",
              " 0.8665422140819276,\n",
              " 0.8476982142228172,\n",
              " 0.8280793209115568,\n",
              " 0.8298404423937166,\n",
              " 0.8431545207988448,\n",
              " 0.846606318903878,\n",
              " 0.8458666478813711,\n",
              " 0.8276214293261951,\n",
              " 0.7901095417561904,\n",
              " 0.7918002183790639,\n",
              " 0.784473953013279,\n",
              " 0.8097636574970944,\n",
              " 0.7886654221408195,\n",
              " 0.8085660948892256,\n",
              " 0.8238878517840164,\n",
              " 0.8300165545419326,\n",
              " 0.8300165545419326,\n",
              " 0.8278327639040542,\n",
              " 0.8230777359022227,\n",
              " 0.8351590292698391,\n",
              " 0.8578422739600579,\n",
              " 0.8629847486879646,\n",
              " 0.8738332570180692,\n",
              " 0.8771441654045299,\n",
              " 0.8742559261737878,\n",
              " 0.8860554401042585,\n",
              " 0.8804198513613471,\n",
              " 0.8767919411080977,\n",
              " 0.8837659821774507,\n",
              " 0.9297664752914657,\n",
              " 0.933922721989363,\n",
              " 0.959529428339967,\n",
              " 0.9516043816702479,\n",
              " 0.9648480152160898,\n",
              " 0.9679123665950479,\n",
              " 0.9765066394279879,\n",
              " 0.9751681871015464,\n",
              " 0.9784438730583637,\n",
              " 0.9747807403754712,\n",
              " 0.9566411891092249,\n",
              " 0.962382445141066,\n",
              " 0.9774928674579976,\n",
              " 0.9752034095311896,\n",
              " 0.9873199253284494,\n",
              " 0.9859462505723647,\n",
              " 0.9935190729456519,\n",
              " 1.0,\n",
              " 0.9884470430770315,\n",
              " 0.9808742207037443,\n",
              " 0.981684336585538,\n",
              " 0.9526962769891868]"
            ]
          },
          "metadata": {},
          "execution_count": 187
        }
      ]
    },
    {
      "cell_type": "code",
      "metadata": {
        "colab": {
          "base_uri": "https://localhost:8080/"
        },
        "id": "B1-myrMwvN3q",
        "outputId": "0a0a4e1e-5daf-403e-a104-a965c98e3116"
      },
      "source": [
        "X_input"
      ],
      "execution_count": 188,
      "outputs": [
        {
          "output_type": "execute_result",
          "data": {
            "text/plain": [
              "array([[0.76862386, 0.77045543, 0.76827164, 0.78116304, 0.78655208,\n",
              "        0.78133916, 0.78035293, 0.76717974, 0.77531612, 0.78264239,\n",
              "        0.79933782, 0.81177134, 0.80958755, 0.80074672, 0.7996196 ,\n",
              "        0.80060583, 0.79500546, 0.79468846, 0.80278962, 0.80064105,\n",
              "        0.811243  , 0.81103166, 0.80705153, 0.80039449, 0.80219084,\n",
              "        0.81226445, 0.82297207, 0.82913599, 0.82378218, 0.81550491,\n",
              "        0.83677926, 0.86351309, 0.86453454, 0.85738438, 0.85523581,\n",
              "        0.84495086, 0.84716988, 0.86080096, 0.85477792, 0.85460181,\n",
              "        0.85220669, 0.85217146, 0.84879011, 0.84889578, 0.83846994,\n",
              "        0.83304568, 0.83755415, 0.84741643, 0.86513332, 0.86654221,\n",
              "        0.84769821, 0.82807932, 0.82984044, 0.84315452, 0.84660632,\n",
              "        0.84586665, 0.82762143, 0.79010954, 0.79180022, 0.78447395,\n",
              "        0.80976366, 0.78866542, 0.80856609, 0.82388785, 0.83001655,\n",
              "        0.83001655, 0.82783276, 0.82307774, 0.83515903, 0.85784227,\n",
              "        0.86298475, 0.87383326, 0.87714417, 0.87425593, 0.88605544,\n",
              "        0.88041985, 0.87679194, 0.88376598, 0.92976648, 0.93392272,\n",
              "        0.95952943, 0.95160438, 0.96484802, 0.96791237, 0.97650664,\n",
              "        0.97516819, 0.97844387, 0.97478074, 0.95664119, 0.96238245,\n",
              "        0.97749287, 0.97520341, 0.98731993, 0.98594625, 0.99351907,\n",
              "        1.        , 0.98844704, 0.98087422, 0.98168434, 0.95269628]])"
            ]
          },
          "metadata": {},
          "execution_count": 188
        }
      ]
    },
    {
      "cell_type": "code",
      "metadata": {
        "colab": {
          "base_uri": "https://localhost:8080/"
        },
        "id": "Da9nxeUDqabI",
        "outputId": "617347fa-986b-4dd3-8a8d-1998b7485eeb"
      },
      "source": [
        "#Demonstrating prediction for upcoming 100days\n",
        "from numpy import array\n",
        "lst_output = []\n",
        "n_steps = 100\n",
        "i = 0\n",
        "while(i < 100):\n",
        "  if(len(temp_input) > 100):\n",
        "    X_input = np.array(temp_input[1:])\n",
        "    X_input = X_input.reshape(1,-1)\n",
        "    X_input = X_input.reshape((1,n_steps, 1))\n",
        "    yhat = model.predict(X_input,verbose = 0)\n",
        "    temp_input.extend(yhat[0].tolist())\n",
        "    temp_input = temp_input[1:]\n",
        "    lst_output.extend(yhat.tolist())\n",
        "    i = i+1\n",
        "  else:\n",
        "    X_input = X_input.reshape((1,n_steps,1))\n",
        "    yhat = model.predict(X_input, verbose = 0)\n",
        "    temp_input.extend(yhat[0].tolist())\n",
        "    lst_output.extend(yhat.tolist())\n",
        "    i=i+1\n",
        "\n",
        "print(lst_output)\n",
        "\n"
      ],
      "execution_count": 201,
      "outputs": [
        {
          "output_type": "stream",
          "name": "stdout",
          "text": [
            "[[0.9870626926422119], [0.9874756932258606], [0.9878696203231812], [0.9882445335388184], [0.988602340221405], [0.9889430403709412], [0.9892684817314148], [0.9895793199539185], [0.9898771643638611], [0.9901620149612427], [0.9904361963272095], [0.9907001256942749], [0.9909545183181763], [0.9912003874778748], [0.9914387464523315], [0.9916698932647705], [0.9918946623802185], [0.9921135902404785], [0.9923269748687744], [0.9925352334976196], [0.9927387833595276], [0.9929382801055908], [0.9931333065032959], [0.9933246970176697], [0.9935118556022644], [0.9936956167221069], [0.9938755035400391], [0.9940521717071533], [0.9942249059677124], [0.9943945407867432], [0.9945605993270874], [0.9947236180305481], [0.9948824644088745], [0.9950383901596069], [0.9951907396316528], [0.9953398704528809], [0.9954854846000671], [0.9956278204917908], [0.9957670569419861], [0.9959025382995605], [0.9960349798202515], [0.9961642026901245], [0.9962902069091797], [0.9964131712913513], [0.9965329170227051], [0.9966496229171753], [0.9967635273933411], [0.9968746304512024], [0.9969825148582458], [0.997087836265564], [0.9971903562545776], [0.997290313243866], [0.9973874688148499], [0.9974823594093323], [0.9975747466087341], [0.9976646304130554], [0.9977522492408752], [0.9978378415107727], [0.9979209303855896], [0.9980019927024841], [0.9980809092521667], [0.998157799243927], [0.9982327222824097], [0.9983059167861938], [0.99837726354599], [0.9984467625617981], [0.9985143542289734], [0.998580276966095], [0.9986447095870972], [0.9987074136734009], [0.9987685084342957], [0.9988279342651367], [0.9988860487937927], [0.9989427328109741], [0.9989980459213257], [0.9990519285202026], [0.9991044402122498], [0.9991557002067566], [0.9992055296897888], [0.999254047870636], [0.9993016123771667], [0.9993478059768677], [0.9993929862976074], [0.9994369149208069], [0.9994797110557556], [0.9995216727256775], [0.9995620846748352], [0.9996019601821899], [0.9996405839920044], [0.999678373336792], [0.9997149109840393], [0.9997509717941284], [0.9997860789299011], [0.9998198747634888], [0.9998530745506287], [0.9998856782913208], [0.9999169707298279], [0.9999478459358215], [0.9999777674674988], [1.000006914138794]]\n"
          ]
        }
      ]
    },
    {
      "cell_type": "code",
      "metadata": {
        "id": "LXaPNTZkuLzF"
      },
      "source": [
        "day_new = np.arange(1,101)\n",
        "day_pred = np.arange(101,201)"
      ],
      "execution_count": 202,
      "outputs": []
    },
    {
      "cell_type": "code",
      "metadata": {
        "colab": {
          "base_uri": "https://localhost:8080/"
        },
        "id": "Q1XfHhgawBBm",
        "outputId": "45927043-6ed7-4979-e2eb-db4aa1fded2c"
      },
      "source": [
        "len(df1)"
      ],
      "execution_count": 203,
      "outputs": [
        {
          "output_type": "execute_result",
          "data": {
            "text/plain": [
              "1259"
            ]
          },
          "metadata": {},
          "execution_count": 203
        }
      ]
    },
    {
      "cell_type": "code",
      "metadata": {
        "colab": {
          "base_uri": "https://localhost:8080/",
          "height": 283
        },
        "id": "3XkBRVt0vm70",
        "outputId": "b036a62e-ae03-48db-ff88-e2ccf8db9df7"
      },
      "source": [
        "import matplotlib.pyplot as plt\n",
        "plt.plot(day_new,scaler.inverse_transform(df1[1159:]))\n",
        "plt.plot(day_pred,scaler.inverse_transform(lst_output))\n",
        "\n",
        "#orange line in our prediction value"
      ],
      "execution_count": 204,
      "outputs": [
        {
          "output_type": "execute_result",
          "data": {
            "text/plain": [
              "[<matplotlib.lines.Line2D at 0x7efd7b3b0c10>]"
            ]
          },
          "metadata": {},
          "execution_count": 204
        },
        {
          "output_type": "display_data",
          "data": {
            "image/png": "[encoded data removed]",
            "text/plain": [
              "<Figure size 432x288 with 1 Axes>"
            ]
          },
          "metadata": {
            "needs_background": "light"
          }
        }
      ]
    },
    {
      "cell_type": "code",
      "metadata": {
        "colab": {
          "base_uri": "https://localhost:8080/",
          "height": 283
        },
        "id": "wqDs2Nuhwoqr",
        "outputId": "cfde2dc5-0351-4ce8-9655-a247e1b24907"
      },
      "source": [
        "#combination of prediction and original values\n",
        "df3 = df1.tolist()\n",
        "df3.extend(lst_output)\n",
        "plt.plot(df3[1200:])"
      ],
      "execution_count": 205,
      "outputs": [
        {
          "output_type": "execute_result",
          "data": {
            "text/plain": [
              "[<matplotlib.lines.Line2D at 0x7efd7b37bf50>]"
            ]
          },
          "metadata": {},
          "execution_count": 205
        },
        {
          "output_type": "display_data",
          "data": {
            "image/png": "[encoded data removed]",
            "text/plain": [
              "<Figure size 432x288 with 1 Axes>"
            ]
          },
          "metadata": {
            "needs_background": "light"
          }
        }
      ]
    }
  ]
}